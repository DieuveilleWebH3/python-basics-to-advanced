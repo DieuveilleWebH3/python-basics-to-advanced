{
 "cells": [
  {
   "cell_type": "markdown",
   "id": "de783cbf",
   "metadata": {},
   "source": [
    "## Exo 1\n",
    "\n",
    "\n",
    "### Weird request not to use json.dumps() but have the same result / effect \n",
    "\n"
   ]
  },
  {
   "cell_type": "code",
   "execution_count": 1,
   "id": "ca4991a4",
   "metadata": {},
   "outputs": [],
   "source": [
    "def json_dumps(x):\n",
    "    if type(x) == int or type(x) == float: \n",
    "        return str(x)\n",
    "    \n",
    "    elif type(x) == str:         \n",
    "        return '\\\"' + str(x) + '\\\"' \n",
    "    \n",
    "    elif type(x) == list:         \n",
    "        y = \"[\"\n",
    "        for i in x:\n",
    "            if i == x[-1]:\n",
    "                if i == None or i == \"None\":\n",
    "                    y += \"null\"\n",
    "                else:\n",
    "                    y += str(i).lower() \n",
    "            else:\n",
    "                if i == None or i == \"None\":\n",
    "                    y += \"null\" + \",\"\n",
    "                else:\n",
    "                    y += str(i).lower() + \",\"\n",
    "        y += \"]\"\n",
    "        return y\n",
    "    \n",
    "    elif type(x) == dict:         \n",
    "        y = \"{\"\n",
    "        for a, b in x.items():\n",
    "            if type(b) == list:\n",
    "                y += \"\\\"\" + str(a) + \"\\\":\"\n",
    "                for i in b:\n",
    "                    y += \"[\\\"\" + str(i) + \"\\\"]\" \n",
    "            else:\n",
    "                y += \"\\\"\" + str(a) + \"\\\":\\\"\" + str(b) + \"\\\"\" \n",
    "        y += \"}\"\n",
    "        \n",
    "        return y\n",
    "    "
   ]
  },
  {
   "cell_type": "code",
   "execution_count": 2,
   "id": "425e6971",
   "metadata": {},
   "outputs": [
    {
     "name": "stdout",
     "output_type": "stream",
     "text": [
      "1\n",
      "\n",
      "1.2\n",
      "\n",
      "\"foo\"\n",
      "\n",
      "\"foo\"\n",
      "\n",
      "[null,true,false]\n",
      "\n",
      "{\"foo\":\"bar\"}\n",
      "\n",
      "{\"foo\":[\"bar\"]}\n"
     ]
    }
   ],
   "source": [
    "print(json_dumps(1))\n",
    "\n",
    "assert json_dumps(1) == '1'\n",
    "\n",
    "print()\n",
    "\n",
    "\n",
    "\n",
    "print(json_dumps(1.2))\n",
    "\n",
    "assert json_dumps(1.2) == '1.2'\n",
    "\n",
    "print()\n",
    "\n",
    "\n",
    "\n",
    "print(json_dumps(\"foo\"))\n",
    "\n",
    "assert json_dumps(\"foo\") == '\"foo\"'\n",
    "\n",
    "print()\n",
    "\n",
    "\n",
    "\n",
    "print(json_dumps(\"foo\"))\n",
    "\n",
    "assert json_dumps(\"foo\") == '\"foo\"'\n",
    "\n",
    "assert json_dumps('foo') == '\"foo\"'\n",
    "\n",
    "print()\n",
    "\n",
    "\n",
    "\n",
    "print(json_dumps([None, True, False]))\n",
    "\n",
    "assert json_dumps([None, True, False]) == '[null,true,false]'\n",
    "\n",
    "print()\n",
    "\n",
    "\n",
    "\n",
    "print(json_dumps({\"foo\": \"bar\"}))\n",
    "\n",
    "assert json_dumps({\"foo\": \"bar\"}) == '{\"foo\":\"bar\"}'\n",
    "\n",
    "print()\n",
    "\n",
    "\n",
    "\n",
    "print(json_dumps({\"foo\": [\"bar\"]}))\n",
    "\n",
    "assert json_dumps({\"foo\": [\"bar\"]}) == '{\"foo\":[\"bar\"]}'"
   ]
  },
  {
   "cell_type": "code",
   "execution_count": null,
   "id": "85b79947",
   "metadata": {},
   "outputs": [],
   "source": []
  },
  {
   "cell_type": "code",
   "execution_count": null,
   "id": "0bcee894",
   "metadata": {},
   "outputs": [],
   "source": []
  },
  {
   "cell_type": "code",
   "execution_count": null,
   "id": "c201ce63",
   "metadata": {},
   "outputs": [],
   "source": []
  },
  {
   "cell_type": "markdown",
   "id": "83ab3892",
   "metadata": {},
   "source": [
    "## Exo 2 \n",
    "\n",
    "\n",
    "### slice two by two \n",
    "\n"
   ]
  },
  {
   "cell_type": "code",
   "execution_count": 3,
   "id": "c21c1bfb",
   "metadata": {},
   "outputs": [],
   "source": [
    "def cut1(x):\n",
    "    y = \"\" \n",
    "    for i in x:\n",
    "        y += str(i)\n",
    "        \n",
    "    o = []\n",
    "    while y:\n",
    "        o.append(y[:2])\n",
    "        y = y[2:]\n",
    "    \n",
    "    print(o)\n",
    "    \n",
    "    \n",
    "    \n",
    "def cut(x, y):\n",
    "    z = \"\" \n",
    "    \n",
    "    for i in x:\n",
    "        z += str(i)\n",
    "        \n",
    "    o = []\n",
    "    \n",
    "    y = int(y)\n",
    "    \n",
    "    while z:\n",
    "        o.append(z[:y])\n",
    "        z = z[y:]\n",
    "    \n",
    "    print(o)\n",
    "    \n",
    "    \n"
   ]
  },
  {
   "cell_type": "code",
   "execution_count": 4,
   "id": "ca9759f2",
   "metadata": {},
   "outputs": [
    {
     "name": "stdout",
     "output_type": "stream",
     "text": [
      "['12', '34', 'ds', 'fr', '56', '78', '90', '12', '3']\n",
      "\n",
      "****************************************\n",
      "\n",
      "['123', '4ds', 'fr5', '678', '901', '23']\n"
     ]
    }
   ],
   "source": [
    "cut1 ([123, 4, \"dsfr\", 567, \"8\", 90, \"123\"])\n",
    "\n",
    "print()\n",
    "print(\"****************************************\")\n",
    "print()\n",
    "\n",
    "cut([123, 4, \"dsfr\", 567, \"8\", 90, \"123\"], 3)"
   ]
  },
  {
   "cell_type": "code",
   "execution_count": null,
   "id": "b4250144",
   "metadata": {},
   "outputs": [],
   "source": []
  },
  {
   "cell_type": "code",
   "execution_count": null,
   "id": "2cda572d",
   "metadata": {},
   "outputs": [],
   "source": []
  },
  {
   "cell_type": "code",
   "execution_count": null,
   "id": "21cf710e",
   "metadata": {},
   "outputs": [],
   "source": []
  },
  {
   "cell_type": "code",
   "execution_count": null,
   "id": "99eb8ba5",
   "metadata": {},
   "outputs": [],
   "source": []
  },
  {
   "cell_type": "markdown",
   "id": "06f86637",
   "metadata": {},
   "source": [
    "## Exo 3\n",
    "\n",
    "#### Dans cet exercice, on vous demande d'écrire un programme capable d'analyser un relevé de températures pour trouver quelle température se rapproche le plus de zéro. \n",
    "\n",
    "### Implémentez la fonction compute_closest_to_zero(ts) qui prend un tableau de températures ts en paramètre et renvoie la température la plus proche de zéro.\n",
    "\n",
    "### Contraintes :\n",
    "  - Si le tableau est vide, la fonction doit renvoyer 0 \n",
    "  - 0 ≤ taille ts ≤ 10000 \n",
    "  - Si deux températures sont aussi proches de zéro, la fonction devra renvoyer la température positive \n",
    "    \n",
    "  ** (par exemple si les températures sont -5 et 5, renvoyez 5).\n"
   ]
  },
  {
   "cell_type": "code",
   "execution_count": 5,
   "id": "2416fa1b",
   "metadata": {},
   "outputs": [],
   "source": [
    "# ts = [7, 5, 9, 1, 4,]\n",
    "\n",
    "# ts = [15, -7, 9, 14, 7, 12]\n",
    "\n",
    "# ts = [-273]\n",
    "\n",
    "# ts = [5526]\n",
    "\n",
    "# ts = [-15, -7, -9, -14, -12]\n",
    "\n",
    "# ts = [-10, -10]\n",
    "\n",
    "# ts = [-15, -7, -9, -14, -12] \n",
    "\n",
    "# ts = []"
   ]
  },
  {
   "cell_type": "code",
   "execution_count": 6,
   "id": "feceb497",
   "metadata": {},
   "outputs": [],
   "source": [
    "import sys\n",
    "import math\n",
    "from contextlib import redirect_stdout\n",
    "\n",
    "\n",
    "def compute_closest_to_zero(ts):\n",
    "    # Write your code here\n",
    "    \n",
    "    if len(ts) == 0:\n",
    "        return 0\n",
    "    else:\n",
    "        if len(ts) == 1 and 0 not in ts:\n",
    "            return ts[0]\n",
    "        \n",
    "        if 0 in ts:\n",
    "            ts.remove(0)\n",
    "        \n",
    "        temp = list(min((abs(x), x) for x in ts))\n",
    "        \n",
    "        if len(temp) == 1:\n",
    "            return temp[0]\n",
    "        else:\n",
    "            if temp[0] == temp[1]:\n",
    "                return temp[0]\n",
    "            elif temp[0] not in ts:\n",
    "                return temp[1]\n",
    "            else:\n",
    "                return temp[0]\n"
   ]
  },
  {
   "cell_type": "code",
   "execution_count": 7,
   "id": "e603cbd8",
   "metadata": {},
   "outputs": [
    {
     "data": {
      "text/plain": [
       "1"
      ]
     },
     "execution_count": 7,
     "metadata": {},
     "output_type": "execute_result"
    }
   ],
   "source": [
    "compute_closest_to_zero([7, 5, 9, 1, 4,])"
   ]
  },
  {
   "cell_type": "code",
   "execution_count": 8,
   "id": "4fc1ff37",
   "metadata": {},
   "outputs": [
    {
     "data": {
      "text/plain": [
       "1"
      ]
     },
     "execution_count": 8,
     "metadata": {},
     "output_type": "execute_result"
    }
   ],
   "source": [
    "compute_closest_to_zero([7, -5, 9, 1, 4,])"
   ]
  },
  {
   "cell_type": "code",
   "execution_count": 9,
   "id": "d14480c4",
   "metadata": {},
   "outputs": [
    {
     "data": {
      "text/plain": [
       "7"
      ]
     },
     "execution_count": 9,
     "metadata": {},
     "output_type": "execute_result"
    }
   ],
   "source": [
    "compute_closest_to_zero([15, -7, 9, 14, 7, 12, 0])"
   ]
  },
  {
   "cell_type": "code",
   "execution_count": 10,
   "id": "1093693a",
   "metadata": {},
   "outputs": [
    {
     "data": {
      "text/plain": [
       "7"
      ]
     },
     "execution_count": 10,
     "metadata": {},
     "output_type": "execute_result"
    }
   ],
   "source": [
    "compute_closest_to_zero([15, -7, 9, 14, 7, 12])"
   ]
  },
  {
   "cell_type": "code",
   "execution_count": 11,
   "id": "12834b2e",
   "metadata": {},
   "outputs": [
    {
     "data": {
      "text/plain": [
       "-273"
      ]
     },
     "execution_count": 11,
     "metadata": {},
     "output_type": "execute_result"
    }
   ],
   "source": [
    "compute_closest_to_zero([-273])"
   ]
  },
  {
   "cell_type": "code",
   "execution_count": 12,
   "id": "28525ffb",
   "metadata": {},
   "outputs": [
    {
     "data": {
      "text/plain": [
       "5526"
      ]
     },
     "execution_count": 12,
     "metadata": {},
     "output_type": "execute_result"
    }
   ],
   "source": [
    "compute_closest_to_zero([5526])"
   ]
  },
  {
   "cell_type": "code",
   "execution_count": 13,
   "id": "6bf84b1b",
   "metadata": {},
   "outputs": [
    {
     "data": {
      "text/plain": [
       "-7"
      ]
     },
     "execution_count": 13,
     "metadata": {},
     "output_type": "execute_result"
    }
   ],
   "source": [
    "compute_closest_to_zero([-15, -7, -9, -14, -12])"
   ]
  },
  {
   "cell_type": "code",
   "execution_count": 14,
   "id": "8943c6b2",
   "metadata": {},
   "outputs": [
    {
     "data": {
      "text/plain": [
       "-10"
      ]
     },
     "execution_count": 14,
     "metadata": {},
     "output_type": "execute_result"
    }
   ],
   "source": [
    "compute_closest_to_zero([-10, -10])"
   ]
  },
  {
   "cell_type": "code",
   "execution_count": null,
   "id": "7a26ab03",
   "metadata": {},
   "outputs": [],
   "source": []
  },
  {
   "cell_type": "code",
   "execution_count": null,
   "id": "97e7bcad",
   "metadata": {},
   "outputs": [],
   "source": []
  },
  {
   "cell_type": "code",
   "execution_count": null,
   "id": "6ee09532",
   "metadata": {},
   "outputs": [],
   "source": []
  },
  {
   "cell_type": "markdown",
   "id": "79b3b734",
   "metadata": {},
   "source": [
    "## Exo 4\n",
    "\n",
    "#### Dans cet exercice, on vous demande d'écrire une fonction is_bool(i,j) retournant True si un des arguments est égal à 1 ou si leur somme est égal à 1 capable d'analyser un relevé de températures pour trouver quelle température se rapproche le plus de zéro. \n",
    "\n",
    "    \n",
    "  **(par exemple is_bool(1, 5) retourne True ).**\n",
    "  \n",
    "  **(par exemple is_bool(2, 3) retourne False ).**\n",
    "  \n",
    "  **(par exemple is_bool(-3, 4) retourne True ).**\n"
   ]
  },
  {
   "cell_type": "code",
   "execution_count": 15,
   "id": "6f6fd89f",
   "metadata": {},
   "outputs": [],
   "source": [
    "def is_bool(i, j):\n",
    "    if i == 1 or j ==1:\n",
    "        return True\n",
    "    elif i + j == 1:\n",
    "        return True\n",
    "    return False"
   ]
  },
  {
   "cell_type": "code",
   "execution_count": 16,
   "id": "08b8338f",
   "metadata": {},
   "outputs": [
    {
     "data": {
      "text/plain": [
       "True"
      ]
     },
     "execution_count": 16,
     "metadata": {},
     "output_type": "execute_result"
    }
   ],
   "source": [
    "is_bool(1, 5)\n",
    "\n"
   ]
  },
  {
   "cell_type": "code",
   "execution_count": 17,
   "id": "ab31c7b0",
   "metadata": {},
   "outputs": [
    {
     "data": {
      "text/plain": [
       "False"
      ]
     },
     "execution_count": 17,
     "metadata": {},
     "output_type": "execute_result"
    }
   ],
   "source": [
    "is_bool(2, 3)"
   ]
  },
  {
   "cell_type": "code",
   "execution_count": 18,
   "id": "13dbb10a",
   "metadata": {},
   "outputs": [
    {
     "data": {
      "text/plain": [
       "True"
      ]
     },
     "execution_count": 18,
     "metadata": {},
     "output_type": "execute_result"
    }
   ],
   "source": [
    "is_bool(-3, 4)"
   ]
  },
  {
   "cell_type": "code",
   "execution_count": null,
   "id": "06e55665",
   "metadata": {},
   "outputs": [],
   "source": []
  },
  {
   "cell_type": "code",
   "execution_count": null,
   "id": "7a36cd5e",
   "metadata": {},
   "outputs": [],
   "source": []
  },
  {
   "cell_type": "code",
   "execution_count": null,
   "id": "668859e2",
   "metadata": {},
   "outputs": [],
   "source": []
  },
  {
   "cell_type": "markdown",
   "id": "630daacf",
   "metadata": {},
   "source": [
    "## Exo 5\n",
    "\n",
    "#### Dans cet exercice, on vous demande d'écrire une fonction solution,  telle que l'execution de\n",
    "\n",
    "#### print(solution('Hello you !'))  donne \n",
    "\n",
    "**Hello**\n",
    "\n",
    "**you**\n",
    "\n",
    "**!**\n",
    "\n"
   ]
  },
  {
   "cell_type": "code",
   "execution_count": 19,
   "id": "4cf18c21",
   "metadata": {},
   "outputs": [],
   "source": [
    "def solution(my_string):\n",
    "    my_list = my_string.split(\" \")\n",
    "    for i in my_list:\n",
    "        print(i)\n",
    "        \n",
    "    # return my_list\n",
    "        "
   ]
  },
  {
   "cell_type": "code",
   "execution_count": 20,
   "id": "d758b500",
   "metadata": {},
   "outputs": [
    {
     "name": "stdout",
     "output_type": "stream",
     "text": [
      "Hello\n",
      "you\n",
      "!\n"
     ]
    }
   ],
   "source": [
    "solution('Hello you !')"
   ]
  },
  {
   "cell_type": "code",
   "execution_count": 21,
   "id": "869ca4b4",
   "metadata": {},
   "outputs": [
    {
     "name": "stdout",
     "output_type": "stream",
     "text": [
      "Hello\n",
      "you\n",
      "!\n",
      "None\n"
     ]
    }
   ],
   "source": [
    "print(solution('Hello you !'))"
   ]
  },
  {
   "cell_type": "code",
   "execution_count": null,
   "id": "c0d84ff5",
   "metadata": {},
   "outputs": [],
   "source": []
  },
  {
   "cell_type": "code",
   "execution_count": null,
   "id": "a4226f29",
   "metadata": {},
   "outputs": [],
   "source": []
  },
  {
   "cell_type": "markdown",
   "id": "f7e0afaa",
   "metadata": {},
   "source": [
    "## Exo 6\n",
    "\n",
    "#### Dans cet exercice, on vous demande d'écrire une fonction is_on_even_position(table, value),  afin qu'elle renvoie True si la valeur value est contenue dans le tableau table à un index pair et false sinon \n",
    "\n",
    "#### le parametre table n'est jamais None \n",
    "\n",
    "\n",
    "\n"
   ]
  },
  {
   "cell_type": "code",
   "execution_count": 22,
   "id": "6f036259",
   "metadata": {},
   "outputs": [],
   "source": [
    "# t = [9, 8, 7, 6, 5, 4, 3, 2, 1, 0 ]"
   ]
  },
  {
   "cell_type": "code",
   "execution_count": 23,
   "id": "381efe7d",
   "metadata": {},
   "outputs": [],
   "source": [
    "def is_on_even_position(table, value):\n",
    "    if table.index(value) % 2 == 0: \n",
    "        return True \n",
    "    return False "
   ]
  },
  {
   "cell_type": "code",
   "execution_count": 24,
   "id": "f9ecff5a",
   "metadata": {},
   "outputs": [
    {
     "name": "stdout",
     "output_type": "stream",
     "text": [
      "False\n"
     ]
    }
   ],
   "source": [
    "t = [9, 8, 7, 6, 5, 4, 3, 2, 1, 0 ]\n",
    "\n",
    "print(is_on_even_position(t, 6))   # False\n"
   ]
  },
  {
   "cell_type": "code",
   "execution_count": 25,
   "id": "2e4a1ee8",
   "metadata": {},
   "outputs": [
    {
     "name": "stdout",
     "output_type": "stream",
     "text": [
      "True\n"
     ]
    }
   ],
   "source": [
    "t = [9, 8, 7, 6, 5, 4, 3, 2, 1, 0 ]\n",
    "\n",
    "print(is_on_even_position(t, 3))   # True\n"
   ]
  },
  {
   "cell_type": "code",
   "execution_count": 26,
   "id": "1acc01c4",
   "metadata": {},
   "outputs": [
    {
     "name": "stdout",
     "output_type": "stream",
     "text": [
      "True\n"
     ]
    }
   ],
   "source": [
    "t = [1, 1]\n",
    "\n",
    "print(is_on_even_position(t, 1))   # True\n"
   ]
  },
  {
   "cell_type": "code",
   "execution_count": null,
   "id": "24eccc08",
   "metadata": {},
   "outputs": [],
   "source": []
  },
  {
   "cell_type": "code",
   "execution_count": null,
   "id": "4ee6991c",
   "metadata": {},
   "outputs": [],
   "source": []
  },
  {
   "cell_type": "code",
   "execution_count": null,
   "id": "2d1e8edc",
   "metadata": {},
   "outputs": [],
   "source": []
  },
  {
   "cell_type": "markdown",
   "id": "4ea934be",
   "metadata": {},
   "source": [
    "## Exo 7\n",
    "\n",
    "#### Vous organisez un tournoi d'échecs dans lequel les joueurs s'affronteront en duel. \n",
    "\n",
    "\n",
    "#### Pour former les duels on procède ainsi: d'abord on tire au hasard un joueur, ensuite on tire au hasard son opposant parmi les joueurs restants. Cette paire forme un des duels du tournoi. On procède de la même manière pour former toutes les paires.\n",
    "\n",
    "#### Dans cet exercice, on souhaiterait connaître le nombre de paires qu'il est possible d'obtenir sachant que l'ordre des opposants dans paire n'a pas d'importance.\n",
    "\n",
    "#### Par exemple, avec 4 joueurs nommés A, B, C et D, il est possible d'obtenir 6 paires différentes: AB, AC, AD, BC, BD, CD.\n",
    "\n",
    "#### Implémentez count pour retourner le nombre de paires possibles. Le\n",
    "\n",
    "#### paramètre correspond au nombre de joueurs.\n",
    "\n",
    "#### Essayez d'optimiser votre solution pour que, dans l'idéal, la durée de traitement soit la même quel que soit n\n",
    "\n",
    "\n",
    "**Données**\n",
    "\n",
    "**2 <= n <= 10000**\n",
    "\n",
    "\n",
    "\n"
   ]
  },
  {
   "cell_type": "code",
   "execution_count": 27,
   "id": "10dfae0d",
   "metadata": {},
   "outputs": [],
   "source": [
    "\n",
    "# import sys\n",
    "\n",
    "# print(sys.getrecursionlimit())\n",
    "\n",
    "# sys.setrecursionlimit(15000)  # makes python crach\n",
    "\n",
    "# print(sys.getrecursionlimit())\n",
    "\n",
    "# **********************************************************************************************\n",
    "\n",
    "# Changing the Algo \n",
    "\n",
    "\n",
    "\"\"\" \n",
    "def factorial (x):\n",
    "    if x == 0 or x == 1:\n",
    "        return 1\n",
    "\n",
    "    elif x == 2: \n",
    "        return 2\n",
    "    \n",
    "    else:\n",
    "        return x * factorial(x - 1)\n",
    "\"\"\" \n",
    "\n",
    "def factorial(x):\n",
    "    factorial = 1\n",
    "\n",
    "    while x > 0:\n",
    "        factorial = factorial*x\n",
    "        x = x - 1\n",
    "\n",
    "    return factorial\n",
    "\n",
    "\n",
    "def count (n):\n",
    "    n = int(n)\n",
    "    \n",
    "    if n == 2:\n",
    "        return 1\n",
    "    \n",
    "    # return int ( factorial(n) / ( factorial(n-2) * factorial(2) ) ) \n",
    "    return int ( factorial(n) / ( factorial(n-2) * 2 ) )\n",
    "\n",
    "\n",
    "\n",
    "# print (count(4)) # 6 \n",
    "\n"
   ]
  },
  {
   "cell_type": "code",
   "execution_count": 28,
   "id": "093177d8",
   "metadata": {},
   "outputs": [
    {
     "name": "stdout",
     "output_type": "stream",
     "text": [
      "6\n"
     ]
    }
   ],
   "source": [
    "# Code de test\n",
    "\n",
    "print (count(4)) # 6 "
   ]
  },
  {
   "cell_type": "code",
   "execution_count": 29,
   "id": "718ebcac",
   "metadata": {},
   "outputs": [
    {
     "name": "stdout",
     "output_type": "stream",
     "text": [
      "28\n"
     ]
    }
   ],
   "source": [
    "# Code de test\n",
    "\n",
    "print(count(8)) # 28"
   ]
  },
  {
   "cell_type": "code",
   "execution_count": 30,
   "id": "51ea5651",
   "metadata": {},
   "outputs": [
    {
     "name": "stdout",
     "output_type": "stream",
     "text": [
      "496\n"
     ]
    }
   ],
   "source": [
    "# Code de test\n",
    "\n",
    "print(count(32)) # 496"
   ]
  },
  {
   "cell_type": "code",
   "execution_count": 31,
   "id": "b826ea6f",
   "metadata": {},
   "outputs": [
    {
     "name": "stdout",
     "output_type": "stream",
     "text": [
      "49995000\n"
     ]
    }
   ],
   "source": [
    "print(count(10000)) # 49995000"
   ]
  },
  {
   "cell_type": "code",
   "execution_count": null,
   "id": "7ab39c08",
   "metadata": {},
   "outputs": [],
   "source": []
  },
  {
   "cell_type": "code",
   "execution_count": null,
   "id": "4775880e",
   "metadata": {},
   "outputs": [],
   "source": []
  },
  {
   "cell_type": "code",
   "execution_count": null,
   "id": "f839ac2d",
   "metadata": {},
   "outputs": [],
   "source": []
  },
  {
   "cell_type": "markdown",
   "id": "d0afbe34",
   "metadata": {},
   "source": [
    "## Exo 8\n",
    "\n",
    "#### Fonction pour inverser une liste  \n"
   ]
  },
  {
   "cell_type": "code",
   "execution_count": 32,
   "id": "f862c154",
   "metadata": {},
   "outputs": [],
   "source": [
    "\n",
    "def reverse_list(my_list):\n",
    "    \n",
    "   return my_list[::-1]\n",
    "\n",
    "\n",
    "# my_list = [2, 5, 78, 0, 4]\n",
    "\n",
    "# the_list = my_list[::-1]\n",
    "\n",
    "# print(the_list)\n",
    "\n",
    " "
   ]
  },
  {
   "cell_type": "code",
   "execution_count": 33,
   "id": "9ae9f624",
   "metadata": {},
   "outputs": [
    {
     "name": "stdout",
     "output_type": "stream",
     "text": [
      "[4, 0, 78, 5, 2]\n"
     ]
    }
   ],
   "source": [
    "print(reverse_list([2, 5, 78, 0, 4]))\n"
   ]
  },
  {
   "cell_type": "code",
   "execution_count": null,
   "id": "9a629f61",
   "metadata": {},
   "outputs": [],
   "source": []
  },
  {
   "cell_type": "code",
   "execution_count": null,
   "id": "76b44713",
   "metadata": {},
   "outputs": [],
   "source": []
  },
  {
   "cell_type": "markdown",
   "id": "052e8265",
   "metadata": {},
   "source": [
    "## Exo 9 \n",
    "\n",
    "#### Heritage Class \n",
    "\n",
    "##### Class B hérite de Class A"
   ]
  },
  {
   "cell_type": "code",
   "execution_count": 34,
   "id": "51a86f23",
   "metadata": {},
   "outputs": [],
   "source": [
    "class A():\n",
    "    def test(self):\n",
    "        print(\"A\")\n",
    "        \n",
    "    def __init__(self):\n",
    "        self.test()\n",
    "\n",
    "        \n",
    "class B(A):\n",
    "    def __init__(self):\n",
    "        self.test()"
   ]
  },
  {
   "cell_type": "code",
   "execution_count": 35,
   "id": "ffb26247",
   "metadata": {},
   "outputs": [
    {
     "name": "stdout",
     "output_type": "stream",
     "text": [
      "A\n",
      "<__main__.B object at 0x000001CB827460D0>\n"
     ]
    }
   ],
   "source": [
    "print(B())"
   ]
  },
  {
   "cell_type": "code",
   "execution_count": 36,
   "id": "70f565bb",
   "metadata": {},
   "outputs": [
    {
     "name": "stdout",
     "output_type": "stream",
     "text": [
      "A\n"
     ]
    }
   ],
   "source": [
    "b1 = B()"
   ]
  },
  {
   "cell_type": "code",
   "execution_count": 37,
   "id": "987d554c",
   "metadata": {},
   "outputs": [
    {
     "name": "stdout",
     "output_type": "stream",
     "text": [
      "obj.a == 'hello'  is   True\n",
      "\n",
      "\n",
      "obj.b == 'world'  is   False\n",
      "\n",
      "\n",
      "obj.b == None  is   True\n",
      "\n",
      "\n",
      "obj.a == 'john'  is   False\n"
     ]
    }
   ],
   "source": [
    "class MyClass():\n",
    "        \n",
    "    def __init__(self, b):\n",
    "        self.a = 'hello' \n",
    "        self.b = b\n",
    "\n",
    "        \n",
    "obj = MyClass('world')\n",
    "MyClass.a = 'john'\n",
    "obj.b = None \n",
    "\n",
    "\n",
    "print(\"obj.a == 'hello'  is  \", obj.a == 'hello')\n",
    "print(\"\\n\")\n",
    "\n",
    "print(\"obj.b == 'world'  is  \", obj.b == 'world')\n",
    "print(\"\\n\")\n",
    "\n",
    "print(\"obj.b == None  is  \", obj.b == None)\n",
    "print(\"\\n\")\n",
    "\n",
    "print(\"obj.a == 'john'  is  \", obj.a == 'john')\n",
    "\n"
   ]
  },
  {
   "cell_type": "code",
   "execution_count": 38,
   "id": "815e65ce",
   "metadata": {},
   "outputs": [],
   "source": [
    "assert(obj.a == 'hello')"
   ]
  },
  {
   "cell_type": "code",
   "execution_count": 39,
   "id": "276f3526",
   "metadata": {},
   "outputs": [],
   "source": [
    "# assert(obj.b == 'world')   # false"
   ]
  },
  {
   "cell_type": "code",
   "execution_count": 40,
   "id": "56a825f4",
   "metadata": {},
   "outputs": [],
   "source": [
    "assert(obj.b == None)"
   ]
  },
  {
   "cell_type": "code",
   "execution_count": 41,
   "id": "76c9de1a",
   "metadata": {},
   "outputs": [],
   "source": [
    "# assert(obj.a == 'john')   # false"
   ]
  },
  {
   "cell_type": "code",
   "execution_count": null,
   "id": "2561ec96",
   "metadata": {},
   "outputs": [],
   "source": []
  },
  {
   "cell_type": "code",
   "execution_count": null,
   "id": "cc727e93",
   "metadata": {},
   "outputs": [],
   "source": []
  },
  {
   "cell_type": "code",
   "execution_count": null,
   "id": "5e2f2cfb",
   "metadata": {},
   "outputs": [],
   "source": []
  },
  {
   "cell_type": "markdown",
   "id": "e13449b4",
   "metadata": {},
   "source": [
    "## Exo 10\n",
    "\n",
    "\n",
    "### Implémentez la fonction find smallest interval(numbers) qui retourne le plus petit intervalle positif entre deux éléments du tableau numbers.\n",
    "\n",
    "\n",
    "#### Par exemple, si on considère le tableau [1, 6, 4, 8, 2], le plus petit intervalle est 1 (différence entre 2 et 1)\n",
    "\n",
    "\n",
    "### Contraintes:\n",
    "\n",
    " - numbers contient au moins deux éléments et au maximum 100 000 éléments.\n",
    "\n",
    " - La solution qui privilégie la vitesse d'exécution pour les tableaux de grande taille obtiendra le plus de points.\n",
    " \n",
    " - La différence entre deux éléments ne dépassera jamais la capacité d'un entier pour votre langage.\n",
    "\n"
   ]
  },
  {
   "cell_type": "code",
   "execution_count": 42,
   "id": "7bee8d6a",
   "metadata": {},
   "outputs": [
    {
     "name": "stdout",
     "output_type": "stream",
     "text": [
      "12\n"
     ]
    }
   ],
   "source": [
    "\n",
    "import sys\n",
    "\n",
    "import math\n",
    "\n",
    "from contextlib import redirect_stdout\n",
    "\n",
    "# print(sys.maxsize)\n",
    "\n",
    "\n",
    "def find_smallest_interval(numbers):\n",
    "    \n",
    "    numbers.sort()\n",
    "    \n",
    "    diff = sys.maxsize\n",
    "    # diff = max(numbers)\n",
    "    \n",
    "    for i in range(0, len(numbers) - 1):\n",
    "        if numbers[i+1] - numbers[i] < diff:\n",
    "            diff = numbers[i+1] - numbers[i]\n",
    "    \n",
    "    return diff\n",
    "\n",
    "\n",
    "def main():\n",
    "    numbers = [int(i) for i in input().split()]\n",
    "    \n",
    "    if len(numbers) < 2 or len(numbers) > 100000:\n",
    "        return \"La liste doit avoir au moins 2 éléments et ne pas dépasser 100000! \"\n",
    "    \n",
    "    with redirect_stdout(sys.stderr):\n",
    "        res = find_smallest_interval(numbers)\n",
    "        \n",
    "    print(res)\n",
    "    \n",
    "    \n",
    "if __name__ == \"__main__\":\n",
    "    main()\n",
    "    \n",
    "    "
   ]
  },
  {
   "cell_type": "code",
   "execution_count": null,
   "id": "688b3bf3",
   "metadata": {},
   "outputs": [],
   "source": []
  },
  {
   "cell_type": "code",
   "execution_count": 43,
   "id": "ddf48ba3",
   "metadata": {},
   "outputs": [],
   "source": [
    "# [1, 5, 3, 19, 18, 25]  # 1\n",
    "\n",
    "# [80, 1, 4, 25, 12, 60, 78, 70]  # 2"
   ]
  },
  {
   "cell_type": "code",
   "execution_count": 44,
   "id": "2b0937fc",
   "metadata": {},
   "outputs": [],
   "source": [
    "def find_smallest_interval(numbers):\n",
    "    \n",
    "    numbers.sort()\n",
    "    \n",
    "    diff = max(numbers)\n",
    "    \n",
    "    for i in range(0, len(numbers) - 1):\n",
    "        if numbers[i+1] - numbers[i] < diff:\n",
    "            diff = numbers[i+1] - numbers[i]\n",
    "    \n",
    "    return diff\n"
   ]
  },
  {
   "cell_type": "code",
   "execution_count": 45,
   "id": "1b4f2418",
   "metadata": {},
   "outputs": [
    {
     "data": {
      "text/plain": [
       "1"
      ]
     },
     "execution_count": 45,
     "metadata": {},
     "output_type": "execute_result"
    }
   ],
   "source": [
    "find_smallest_interval([1, 6, 4, 8, 2])"
   ]
  },
  {
   "cell_type": "code",
   "execution_count": 46,
   "id": "f3900a6f",
   "metadata": {},
   "outputs": [
    {
     "data": {
      "text/plain": [
       "1"
      ]
     },
     "execution_count": 46,
     "metadata": {},
     "output_type": "execute_result"
    }
   ],
   "source": [
    "find_smallest_interval([1, 5, 3, 19, 18, 25])"
   ]
  },
  {
   "cell_type": "code",
   "execution_count": 47,
   "id": "94cd674d",
   "metadata": {},
   "outputs": [
    {
     "data": {
      "text/plain": [
       "2"
      ]
     },
     "execution_count": 47,
     "metadata": {},
     "output_type": "execute_result"
    }
   ],
   "source": [
    "find_smallest_interval([80, 1, 4, 25, 12, 60, 78, 70])"
   ]
  },
  {
   "cell_type": "code",
   "execution_count": null,
   "id": "452ed231",
   "metadata": {},
   "outputs": [],
   "source": []
  },
  {
   "cell_type": "code",
   "execution_count": null,
   "id": "3054f694",
   "metadata": {},
   "outputs": [],
   "source": []
  },
  {
   "cell_type": "code",
   "execution_count": null,
   "id": "444ede2d",
   "metadata": {},
   "outputs": [],
   "source": []
  },
  {
   "cell_type": "markdown",
   "id": "9afc69ee",
   "metadata": {},
   "source": [
    "## Exo 11\n",
    "\n",
    "\n",
    "### On appelle \"duodigit\" un nombre entier dont la représentation décimale n'utilise pas plus de deux chiffres différents. Par exemple 12, 110, -33333 sont des duodigits, mais 102 ne l'est pas\n",
    "\n",
    "\n",
    "#### Implémentez la fonction is duo_digit (number) qui renvoie un string\n",
    "\n",
    " - y  si number est un duodigt\n",
    "\n",
    " - n  dans le cas contraire\n"
   ]
  },
  {
   "cell_type": "code",
   "execution_count": 6,
   "id": "97ee2908",
   "metadata": {},
   "outputs": [
    {
     "name": "stdout",
     "output_type": "stream",
     "text": [
      "102\n",
      "n\n"
     ]
    }
   ],
   "source": [
    "\n",
    "import sys\n",
    "\n",
    "import math\n",
    "\n",
    "from contextlib import redirect_stdout\n",
    "\n",
    "\n",
    "def is_duo_digit(number):\n",
    "    my_string = str(abs(number))\n",
    "    \n",
    "    if len(my_string) == 1 or len(my_string) == 2:\n",
    "        return 'y'\n",
    "\n",
    "    if len(my_string) == 1 or len(my_string) == 2:\n",
    "        return 'y'\n",
    "\n",
    "    my_list = []\n",
    "    for i in my_string:\n",
    "        if i in my_list:\n",
    "            continue\n",
    "        else:\n",
    "            my_list.append(i) \n",
    "    \n",
    "    \n",
    "    if len(my_list) > 2 : return 'n'\n",
    "    else: return 'y'\n",
    "\n",
    "\n",
    "def main():\n",
    "    number = int(input())\n",
    "    \n",
    "    with redirect_stdout(sys.stderr):\n",
    "        result = is_duo_digit(number)\n",
    "        \n",
    "    print(result)\n",
    "    \n",
    "    \n",
    "if __name__ == \"__main__\":\n",
    "    main()\n",
    "    \n"
   ]
  },
  {
   "cell_type": "code",
   "execution_count": 49,
   "id": "34b07b54",
   "metadata": {},
   "outputs": [],
   "source": [
    "# 1\n",
    "\n",
    "# 12\n",
    "\n",
    "# 2020\n",
    "\n",
    "# -2021\n",
    "\n",
    "# 9\n",
    "\n",
    "# 33333\n",
    "\n",
    "# 567 \n"
   ]
  },
  {
   "cell_type": "code",
   "execution_count": 50,
   "id": "a2685c51",
   "metadata": {},
   "outputs": [],
   "source": [
    "def is_duo(my_string):\n",
    "    \n",
    "    if len(my_string) == 1 or len(my_string) == 2:\n",
    "        return 'y'\n",
    "\n",
    "    my_list = []\n",
    "    for i in my_string:\n",
    "        if i in my_list:\n",
    "            continue\n",
    "        else:\n",
    "            my_list.append(i) \n",
    "    \n",
    "    \n",
    "    if len(my_list) > 2 : return 'n'\n",
    "    else: return 'y'\n"
   ]
  },
  {
   "cell_type": "code",
   "execution_count": 51,
   "id": "831d7507",
   "metadata": {},
   "outputs": [
    {
     "name": "stdout",
     "output_type": "stream",
     "text": [
      "y\n"
     ]
    }
   ],
   "source": [
    "print(is_duo('1'))"
   ]
  },
  {
   "cell_type": "code",
   "execution_count": 52,
   "id": "0ed26fb7",
   "metadata": {},
   "outputs": [
    {
     "name": "stdout",
     "output_type": "stream",
     "text": [
      "y\n"
     ]
    }
   ],
   "source": [
    "print(is_duo('12'))"
   ]
  },
  {
   "cell_type": "code",
   "execution_count": 53,
   "id": "5532b951",
   "metadata": {},
   "outputs": [
    {
     "name": "stdout",
     "output_type": "stream",
     "text": [
      "y\n"
     ]
    }
   ],
   "source": [
    "print(is_duo('2020'))"
   ]
  },
  {
   "cell_type": "code",
   "execution_count": 54,
   "id": "a52d88f0",
   "metadata": {},
   "outputs": [
    {
     "name": "stdout",
     "output_type": "stream",
     "text": [
      "n\n"
     ]
    }
   ],
   "source": [
    "print(is_duo('2021'))"
   ]
  },
  {
   "cell_type": "code",
   "execution_count": 55,
   "id": "f5546b0f",
   "metadata": {},
   "outputs": [
    {
     "name": "stdout",
     "output_type": "stream",
     "text": [
      "y\n"
     ]
    }
   ],
   "source": [
    "print(is_duo('9'))"
   ]
  },
  {
   "cell_type": "code",
   "execution_count": 56,
   "id": "0f82361b",
   "metadata": {},
   "outputs": [
    {
     "name": "stdout",
     "output_type": "stream",
     "text": [
      "y\n"
     ]
    }
   ],
   "source": [
    "print(is_duo('33333'))"
   ]
  },
  {
   "cell_type": "code",
   "execution_count": 57,
   "id": "c3fffbee",
   "metadata": {},
   "outputs": [
    {
     "name": "stdout",
     "output_type": "stream",
     "text": [
      "n\n"
     ]
    }
   ],
   "source": [
    "print(is_duo('567'))"
   ]
  },
  {
   "cell_type": "code",
   "execution_count": null,
   "id": "03d48352",
   "metadata": {},
   "outputs": [],
   "source": []
  },
  {
   "cell_type": "code",
   "execution_count": null,
   "id": "b62a3412",
   "metadata": {},
   "outputs": [],
   "source": []
  },
  {
   "cell_type": "code",
   "execution_count": null,
   "id": "72d6b816",
   "metadata": {},
   "outputs": [],
   "source": []
  },
  {
   "cell_type": "code",
   "execution_count": null,
   "id": "1aa57158",
   "metadata": {},
   "outputs": [],
   "source": []
  },
  {
   "cell_type": "markdown",
   "id": "c0262f12",
   "metadata": {},
   "source": [
    "## Exo 12\n",
    "\n",
    "\n",
    "### Git \n",
    "\n",
    "\n",
    "#### Vous avez deux commits locaux C et D que vous n'avez pas encore poussés. \n",
    "#### Vous voulez faire un \"pull\" des changements de la branche origin/master dans votre branche locale master avant de pousser.\n",
    "\n",
    "#### Si vous faites un simple git pull suivi d'un git push, l'historique de commit ne sera pas linéaire. \n",
    "\n",
    "#### Quelle commande devrait-être utilisée préalablement pour récupérer les changements afin que l'historique de commit soit linéaire après un git push  \n",
    " \n",
    " "
   ]
  },
  {
   "cell_type": "code",
   "execution_count": null,
   "id": "8a8d4fac",
   "metadata": {},
   "outputs": [],
   "source": []
  },
  {
   "cell_type": "markdown",
   "id": "d5173386",
   "metadata": {},
   "source": [
    "\n",
    "### git pull --rebase\n",
    "\n",
    "### git rebase origin/master "
   ]
  },
  {
   "cell_type": "code",
   "execution_count": null,
   "id": "87333a66",
   "metadata": {},
   "outputs": [],
   "source": []
  },
  {
   "cell_type": "code",
   "execution_count": null,
   "id": "459b1057",
   "metadata": {},
   "outputs": [],
   "source": []
  },
  {
   "cell_type": "markdown",
   "id": "d8b61086",
   "metadata": {},
   "source": [
    "## Exo 13\n",
    "\n",
    "\n",
    "### Questions & Réponses \n",
    "\n",
    "\n",
    "\n",
    "#### Quel module permet de naviguer dans le système de fichiers ?\n",
    "\n",
    "\n",
    "#### Le module OS permet de naviguer dans le système de fichiers, de gérer les fichiers et les répertoires\n",
    "\n",
    "##### le module shutil permet de copier, déplacer , supprimer des éléments sur les systèmes de fichiers \n",
    "\n",
    "\n",
    "\n",
    "\n",
    "####\n",
    "\n",
    "\n",
    "####\n",
    " "
   ]
  },
  {
   "cell_type": "code",
   "execution_count": null,
   "id": "ea58cafe",
   "metadata": {},
   "outputs": [],
   "source": []
  },
  {
   "cell_type": "code",
   "execution_count": null,
   "id": "250fe001",
   "metadata": {},
   "outputs": [],
   "source": []
  },
  {
   "cell_type": "markdown",
   "id": "ec1b52b8",
   "metadata": {},
   "source": [
    "## Exo 14\n",
    "\n",
    "\n",
    "###  Factorial Function \n",
    "\n"
   ]
  },
  {
   "cell_type": "code",
   "execution_count": 58,
   "id": "705c2ac3",
   "metadata": {},
   "outputs": [],
   "source": [
    "\n",
    "def factorial(n):\n",
    "    if n ==0:\n",
    "        return 1\n",
    "    else:\n",
    "        return n * factorial(n-1)\n",
    "    "
   ]
  },
  {
   "cell_type": "code",
   "execution_count": 59,
   "id": "bf815399",
   "metadata": {},
   "outputs": [
    {
     "name": "stdout",
     "output_type": "stream",
     "text": [
      "120\n"
     ]
    }
   ],
   "source": [
    "print(factorial(5))  # 120"
   ]
  },
  {
   "cell_type": "code",
   "execution_count": 60,
   "id": "c9417335",
   "metadata": {},
   "outputs": [
    {
     "name": "stdout",
     "output_type": "stream",
     "text": [
      "24\n"
     ]
    }
   ],
   "source": [
    "print(factorial(4))  # 24"
   ]
  },
  {
   "cell_type": "code",
   "execution_count": null,
   "id": "2dc96d7c",
   "metadata": {},
   "outputs": [],
   "source": []
  },
  {
   "cell_type": "code",
   "execution_count": null,
   "id": "d251221a",
   "metadata": {},
   "outputs": [],
   "source": []
  },
  {
   "cell_type": "markdown",
   "id": "e81a6b52",
   "metadata": {},
   "source": [
    "## Exo 15 \n",
    "\n",
    "\n",
    "\n",
    "#### Ecrire une fonction is_foo(param) retournant True si param est gal à la chaine \"foo\" si non elle retourne False\n",
    "\n"
   ]
  },
  {
   "cell_type": "code",
   "execution_count": 8,
   "id": "59d69015",
   "metadata": {},
   "outputs": [],
   "source": [
    "\n",
    "def is_foo(param):\n",
    "    if param == 'foo':\n",
    "        return True\n",
    "    \n",
    "    return False\n",
    "\n",
    "\n",
    "def is_foo1(param):\n",
    "    \n",
    "    return param == 'foo'\n"
   ]
  },
  {
   "cell_type": "code",
   "execution_count": 9,
   "id": "a380ad9b",
   "metadata": {},
   "outputs": [
    {
     "data": {
      "text/plain": [
       "True"
      ]
     },
     "execution_count": 9,
     "metadata": {},
     "output_type": "execute_result"
    }
   ],
   "source": [
    "is_foo(\"foo\")"
   ]
  },
  {
   "cell_type": "code",
   "execution_count": 11,
   "id": "44ce2d64",
   "metadata": {},
   "outputs": [
    {
     "data": {
      "text/plain": [
       "True"
      ]
     },
     "execution_count": 11,
     "metadata": {},
     "output_type": "execute_result"
    }
   ],
   "source": [
    "is_foo1(\"foo\")"
   ]
  },
  {
   "cell_type": "code",
   "execution_count": 12,
   "id": "df454e2e",
   "metadata": {},
   "outputs": [
    {
     "data": {
      "text/plain": [
       "False"
      ]
     },
     "execution_count": 12,
     "metadata": {},
     "output_type": "execute_result"
    }
   ],
   "source": [
    "is_foo(\"blah\")"
   ]
  },
  {
   "cell_type": "code",
   "execution_count": 13,
   "id": "e31279b0",
   "metadata": {},
   "outputs": [
    {
     "data": {
      "text/plain": [
       "False"
      ]
     },
     "execution_count": 13,
     "metadata": {},
     "output_type": "execute_result"
    }
   ],
   "source": [
    "is_foo1(\"blah\")"
   ]
  },
  {
   "cell_type": "code",
   "execution_count": null,
   "id": "e42a6842",
   "metadata": {},
   "outputs": [],
   "source": []
  },
  {
   "cell_type": "code",
   "execution_count": null,
   "id": "5fef04a6",
   "metadata": {},
   "outputs": [],
   "source": []
  },
  {
   "cell_type": "markdown",
   "id": "c07457f7",
   "metadata": {},
   "source": [
    "## Exo 16  \n",
    "\n",
    "\n",
    "\n",
    "### Basic Math Function \n",
    "\n",
    "\n",
    "\n"
   ]
  },
  {
   "cell_type": "markdown",
   "id": "7de6e4f3",
   "metadata": {},
   "source": [
    "\n",
    "#### Ecrire une fonction find_largest(numbers) retournant la plus grande valeur d'une liste \n"
   ]
  },
  {
   "cell_type": "code",
   "execution_count": 64,
   "id": "7d7a13ea",
   "metadata": {},
   "outputs": [],
   "source": [
    "def find_largest(numbers):\n",
    "    \n",
    "    return max(numbers)"
   ]
  },
  {
   "cell_type": "code",
   "execution_count": 65,
   "id": "2fec3873",
   "metadata": {},
   "outputs": [
    {
     "data": {
      "text/plain": [
       "200"
      ]
     },
     "execution_count": 65,
     "metadata": {},
     "output_type": "execute_result"
    }
   ],
   "source": [
    "numbers = [1, -28, 88, 200, 7]\n",
    "\n",
    "find_largest(numbers)"
   ]
  },
  {
   "cell_type": "code",
   "execution_count": null,
   "id": "ed1a5532",
   "metadata": {},
   "outputs": [],
   "source": []
  },
  {
   "cell_type": "markdown",
   "id": "497fa12d",
   "metadata": {},
   "source": [
    "\n",
    "#### Ecrire une fonction average(numbers) retournant la moyenne du tableau, average retourne 0 si la table est vide \n"
   ]
  },
  {
   "cell_type": "code",
   "execution_count": 66,
   "id": "f4db7ef7",
   "metadata": {},
   "outputs": [],
   "source": [
    "def average(table):\n",
    "    \n",
    "    if len(table) == 0:\n",
    "        return 0\n",
    "    \n",
    "    return sum(table) / len(table)"
   ]
  },
  {
   "cell_type": "code",
   "execution_count": 67,
   "id": "126412a8",
   "metadata": {},
   "outputs": [
    {
     "data": {
      "text/plain": [
       "5.0"
      ]
     },
     "execution_count": 67,
     "metadata": {},
     "output_type": "execute_result"
    }
   ],
   "source": [
    "table = [0, 1, 2, 3, 4, 5, 6, 7, 8, 9, 10]\n",
    "\n",
    "average(table)"
   ]
  },
  {
   "cell_type": "code",
   "execution_count": null,
   "id": "feb5ba8b",
   "metadata": {},
   "outputs": [],
   "source": []
  },
  {
   "cell_type": "code",
   "execution_count": null,
   "id": "03f95664",
   "metadata": {},
   "outputs": [],
   "source": []
  },
  {
   "cell_type": "markdown",
   "id": "7ed447c6",
   "metadata": {},
   "source": [
    " \n",
    "## Exo 17      **To ReDo  later  Better**\n",
    "\n",
    "\n",
    "### Syntax & Architecture\n",
    "\n",
    "\n",
    "\n",
    "#### Ecrire un programme qui doit afficher \"foo\" et \"bar\"\n"
   ]
  },
  {
   "cell_type": "code",
   "execution_count": 14,
   "id": "3a0a0bf0",
   "metadata": {},
   "outputs": [],
   "source": [
    "# supposing this was a python file  named  mylib.py \n",
    "# for this instance we use a class \n",
    "\n",
    "def __foo__():\n",
    "    print(\"foo\")\n",
    "\n",
    "    \n",
    "def bar():\n",
    "    print(\"bar\")\n",
    "        \n",
    "        "
   ]
  },
  {
   "cell_type": "code",
   "execution_count": 15,
   "id": "c02f0937",
   "metadata": {},
   "outputs": [
    {
     "name": "stdout",
     "output_type": "stream",
     "text": [
      "foo\n",
      "bar\n"
     ]
    }
   ],
   "source": [
    "# supposing this another python file  named main.py\n",
    "\n",
    "__foo__()\n",
    "\n",
    "bar()"
   ]
  },
  {
   "cell_type": "code",
   "execution_count": null,
   "id": "b3a7dbd6",
   "metadata": {},
   "outputs": [],
   "source": []
  },
  {
   "cell_type": "code",
   "execution_count": null,
   "id": "adc5612b",
   "metadata": {},
   "outputs": [],
   "source": []
  },
  {
   "cell_type": "code",
   "execution_count": null,
   "id": "6d7b58bf",
   "metadata": {},
   "outputs": [],
   "source": []
  },
  {
   "cell_type": "markdown",
   "id": "3ab371fb",
   "metadata": {},
   "source": [
    "\n",
    "## EXO 18\n",
    "\n",
    "\n",
    "#### Vous ne vous rappelez plus de l'endroit où vous avez enregistré le fichier *universe-formula* \n",
    "#### La seule chose dont vous vous rappeliez c'est qu'il est dans un sous répertoire de */temp/documents*\n",
    "\n",
    "\n",
    "### Implémentez la fonction *locate_universe_formula()* qui devra retourner le fichier *universe-formula*\n",
    "### et retourner son chemin complet (depuis la racine du système de fichier)\n",
    "\n",
    "\n",
    "### Si *universz-formula* n'existe pas la fonction devra retourner *None* \n",
    "\n",
    "\n",
    "\n",
    "### Example:\n",
    "\n",
    ">>*locate_universe_formula()* retourne */temp/documents/a/b/c/universe-formula* \n",
    "si universe-formula est trouvé dans le répertoire */temp/documents/a/b/c*     \n",
    "\n"
   ]
  },
  {
   "cell_type": "code",
   "execution_count": 70,
   "id": "e2decec9",
   "metadata": {},
   "outputs": [],
   "source": [
    "# test case\n",
    "\n",
    "# print(\"the formula path is : \", formulaPath)\n",
    "\n",
    "# print(\"\\n\")\n",
    "\n",
    "# print(\"the file was located in : \", locate_universe_formula())"
   ]
  },
  {
   "cell_type": "code",
   "execution_count": 71,
   "id": "7fdddba8",
   "metadata": {},
   "outputs": [],
   "source": [
    "\n",
    "import os\n",
    "from os import *\n",
    "\n",
    "\n",
    "def locate_universe_formula():\n",
    "    \n",
    "    basepath = 'tmp/documents/'\n",
    "    \n",
    "    entries = os.listdir(basepath)\n",
    "    \n",
    "    file_not_in = True\n",
    "    \n",
    "    full_path = \"\"\n",
    "    the_directory = \"\"\n",
    "    \n",
    "    # print(entries)\n",
    "    # print(\"\\n\")\n",
    "        \n",
    "    \n",
    "    for root, dirs, files in os.walk(basepath):\n",
    "        # print(\"files list of : \", root)\n",
    "        # print(files)\n",
    "        \n",
    "        if 'universe-formula.txt' in files:\n",
    "            file_not_in = False\n",
    "            \n",
    "        # print(\"\\n\")\n",
    "        \n",
    "        for file in files:\n",
    "            # file_not_in = False\n",
    "            # printt(os.path.join(root, file))\n",
    "            if file.startswith('universe-formula'):\n",
    "                # print(os.path.join(root, file))\n",
    "                full_path = os.path.join(root, file)\n",
    "                # print(\"\\n\")\n",
    "                # print(os.path.dirname(full_path))\n",
    "                the_directory = os.path.dirname(full_path.replace(\"\\\\\", \"/\"))\n",
    "                # print(\"\\n\")\n",
    "            \n",
    "    if file_not_in == True or full_path == \"\": \n",
    "        return None\n",
    "    \n",
    "    # format \n",
    "    # 'tmp/documents/a\\\\b\\\\c\\\\universe-formula.txt'\n",
    "    full_path = full_path.replace(\"\\\\\", \"/\")\n",
    "    \n",
    "    print(the_directory)\n",
    "    \n",
    "    return full_path\n",
    "\n"
   ]
  },
  {
   "cell_type": "code",
   "execution_count": 72,
   "id": "d10e1503",
   "metadata": {},
   "outputs": [
    {
     "name": "stdout",
     "output_type": "stream",
     "text": [
      "tmp/documents/a/b/c\n"
     ]
    },
    {
     "data": {
      "text/plain": [
       "'tmp/documents/a/b/c/universe-formula.txt'"
      ]
     },
     "execution_count": 72,
     "metadata": {},
     "output_type": "execute_result"
    }
   ],
   "source": [
    "locate_universe_formula()"
   ]
  },
  {
   "cell_type": "code",
   "execution_count": null,
   "id": "cf9f2b6c",
   "metadata": {},
   "outputs": [],
   "source": []
  },
  {
   "cell_type": "code",
   "execution_count": null,
   "id": "408e5773",
   "metadata": {},
   "outputs": [],
   "source": []
  },
  {
   "cell_type": "code",
   "execution_count": null,
   "id": "5c5622a1",
   "metadata": {},
   "outputs": [],
   "source": []
  },
  {
   "cell_type": "markdown",
   "id": "f9e38941",
   "metadata": {},
   "source": [
    "## EXO 19\n",
    "\n",
    "\n",
    "#### Given 2 non negative integers m and n, find gcd(m, n)\n",
    "\n",
    "#### GCD of 2 integers m and n is defined as the greatest integer g such that g is a divisor of both m and n.\n",
    "\n",
    "#### Both m and n fit in a 32 bit signed integer.\n",
    "\n",
    "\n",
    "#### Example  gcd(6, 9) : 3 "
   ]
  },
  {
   "cell_type": "code",
   "execution_count": 16,
   "id": "de006776",
   "metadata": {},
   "outputs": [],
   "source": [
    "def gcd(A, B):\n",
    "    \n",
    "    divisor = []\n",
    "    \n",
    "    for i in range(1, max(A, B)):\n",
    "        \n",
    "        if B % i == 0 and A % i == 0:\n",
    "            divisor.append(i)\n",
    "            \n",
    "    return max(divisor)"
   ]
  },
  {
   "cell_type": "code",
   "execution_count": 17,
   "id": "e072ba45",
   "metadata": {},
   "outputs": [
    {
     "data": {
      "text/plain": [
       "3"
      ]
     },
     "execution_count": 17,
     "metadata": {},
     "output_type": "execute_result"
    }
   ],
   "source": [
    "gcd(6, 9)"
   ]
  },
  {
   "cell_type": "code",
   "execution_count": 19,
   "id": "2d87b3ea",
   "metadata": {},
   "outputs": [
    {
     "data": {
      "text/plain": [
       "1"
      ]
     },
     "execution_count": 19,
     "metadata": {},
     "output_type": "execute_result"
    }
   ],
   "source": [
    "gcd(6, 1)"
   ]
  },
  {
   "cell_type": "code",
   "execution_count": 20,
   "id": "276c8454",
   "metadata": {},
   "outputs": [
    {
     "data": {
      "text/plain": [
       "9"
      ]
     },
     "execution_count": 20,
     "metadata": {},
     "output_type": "execute_result"
    }
   ],
   "source": [
    "gcd(81, 9)"
   ]
  },
  {
   "cell_type": "code",
   "execution_count": 18,
   "id": "7c32b3db",
   "metadata": {},
   "outputs": [
    {
     "data": {
      "text/plain": [
       "6"
      ]
     },
     "execution_count": 18,
     "metadata": {},
     "output_type": "execute_result"
    }
   ],
   "source": [
    "gcd(6, 12)"
   ]
  },
  {
   "cell_type": "code",
   "execution_count": null,
   "id": "87a372ac",
   "metadata": {},
   "outputs": [],
   "source": []
  },
  {
   "cell_type": "code",
   "execution_count": null,
   "id": "9e4ad864",
   "metadata": {},
   "outputs": [],
   "source": []
  },
  {
   "cell_type": "code",
   "execution_count": null,
   "id": "4e8e632e",
   "metadata": {},
   "outputs": [],
   "source": []
  },
  {
   "cell_type": "markdown",
   "id": "705f1d93",
   "metadata": {},
   "source": [
    "### BubbleSort\n",
    "\n"
   ]
  },
  {
   "cell_type": "code",
   "execution_count": 35,
   "id": "4f022463",
   "metadata": {},
   "outputs": [],
   "source": [
    "def bubble_sort(my_list): # I create my function bubble_sort with the argument called ourlist\n",
    "    b=len(my_list)-1 # for every list, I will have a minus 1 iteration\n",
    "    for x in range(b): # for each element in the range of b, I check if they are ordered or not\n",
    "        for y in range(b-x): \n",
    "            if my_list[y] > my_list[y+1]: # if one element is greater than the nearest elemnt in the list\n",
    "                my_list[y], my_list[y+1]= my_list[y+1], my_list[y] # I have to swap the elemnts, in other words\n",
    "                                                          # I exchange the position of the two elements\n",
    "    return my_list\n",
    "    \n",
    "    "
   ]
  },
  {
   "cell_type": "code",
   "execution_count": 36,
   "id": "300c5ac9",
   "metadata": {},
   "outputs": [
    {
     "data": {
      "text/plain": [
       "[1, 3, 9, 15]"
      ]
     },
     "execution_count": 36,
     "metadata": {},
     "output_type": "execute_result"
    }
   ],
   "source": [
    "bubble_sort([15,1,9,3])"
   ]
  },
  {
   "cell_type": "code",
   "execution_count": 37,
   "id": "1a7f5c06",
   "metadata": {},
   "outputs": [
    {
     "data": {
      "text/plain": [
       "[2, 3, 5, 6, 7, 8]"
      ]
     },
     "execution_count": 37,
     "metadata": {},
     "output_type": "execute_result"
    }
   ],
   "source": [
    "bubble_sort([5, 3, 8, 6, 7, 2])"
   ]
  },
  {
   "cell_type": "code",
   "execution_count": null,
   "id": "1d8f0a87",
   "metadata": {},
   "outputs": [],
   "source": []
  },
  {
   "cell_type": "code",
   "execution_count": null,
   "id": "89acb230",
   "metadata": {},
   "outputs": [],
   "source": []
  },
  {
   "cell_type": "code",
   "execution_count": null,
   "id": "f4d64892",
   "metadata": {},
   "outputs": [],
   "source": []
  },
  {
   "cell_type": "markdown",
   "id": "29975534",
   "metadata": {},
   "source": [
    "### Insertion Sort\n",
    "\n"
   ]
  },
  {
   "cell_type": "code",
   "execution_count": 26,
   "id": "abcf5b02",
   "metadata": {},
   "outputs": [],
   "source": [
    "def insertion_sort(my_list):\n",
    "    for x in range(1, len(my_list)): # loop for each element starting from 1 to the length of our list\n",
    "        k = my_list[x] # element with the index x\n",
    "        j = x-1 # j is the index previus the index x\n",
    "        \n",
    "        while j >=0 and k < my_list[j]: # untill each elermnt of the list are less than their previous element my loop don't stop\n",
    "                my_list[j+1] = my_list[j] # the elemnt indexed before the element considered is set to the next one index\n",
    "                j -= 1 # I decrement index j by 1\n",
    "        my_list[j+1] = k # now k is the element in the index j+1\n",
    "        \n",
    "    return my_list\n"
   ]
  },
  {
   "cell_type": "code",
   "execution_count": 27,
   "id": "ccc1c060",
   "metadata": {},
   "outputs": [
    {
     "data": {
      "text/plain": [
       "[1, 3, 9, 15]"
      ]
     },
     "execution_count": 27,
     "metadata": {},
     "output_type": "execute_result"
    }
   ],
   "source": [
    "insertion_sort([15, 1, 9, 3])"
   ]
  },
  {
   "cell_type": "code",
   "execution_count": 34,
   "id": "86ae863b",
   "metadata": {},
   "outputs": [
    {
     "data": {
      "text/plain": [
       "[2, 3, 5, 6, 7, 8]"
      ]
     },
     "execution_count": 34,
     "metadata": {},
     "output_type": "execute_result"
    }
   ],
   "source": [
    "insertion_sort([5, 3, 8, 6, 7, 2])"
   ]
  },
  {
   "cell_type": "code",
   "execution_count": null,
   "id": "7b14d976",
   "metadata": {},
   "outputs": [],
   "source": []
  },
  {
   "cell_type": "code",
   "execution_count": null,
   "id": "c749eb24",
   "metadata": {},
   "outputs": [],
   "source": []
  },
  {
   "cell_type": "code",
   "execution_count": null,
   "id": "21d82a18",
   "metadata": {},
   "outputs": [],
   "source": []
  },
  {
   "cell_type": "markdown",
   "id": "05451de6",
   "metadata": {},
   "source": [
    "### Climbing Stairs\n",
    "\n",
    "\n"
   ]
  },
  {
   "cell_type": "code",
   "execution_count": 32,
   "id": "27d7d895",
   "metadata": {},
   "outputs": [],
   "source": [
    "def climbStairs(n):\n",
    "    \n",
    "    if n <= 2:\n",
    "        return n\n",
    "    \n",
    "    prevPrev, prev = 1, 2\n",
    "\n",
    "    for step in range(3, n):\n",
    "        \n",
    "        temp = prevPrev\n",
    "        \n",
    "        prevPrev = prev\n",
    "        \n",
    "        prev = temp + prev\n",
    "        \n",
    "    return prevPrev + prev\n",
    "        \n"
   ]
  },
  {
   "cell_type": "code",
   "execution_count": 29,
   "id": "535b0fa7",
   "metadata": {},
   "outputs": [
    {
     "data": {
      "text/plain": [
       "2"
      ]
     },
     "execution_count": 29,
     "metadata": {},
     "output_type": "execute_result"
    }
   ],
   "source": [
    "climbStairs(2)"
   ]
  },
  {
   "cell_type": "code",
   "execution_count": 30,
   "id": "149a0657",
   "metadata": {},
   "outputs": [
    {
     "data": {
      "text/plain": [
       "3"
      ]
     },
     "execution_count": 30,
     "metadata": {},
     "output_type": "execute_result"
    }
   ],
   "source": [
    "climbStairs(3)"
   ]
  },
  {
   "cell_type": "code",
   "execution_count": 31,
   "id": "1ac89cb8",
   "metadata": {},
   "outputs": [
    {
     "data": {
      "text/plain": [
       "5"
      ]
     },
     "execution_count": 31,
     "metadata": {},
     "output_type": "execute_result"
    }
   ],
   "source": [
    "climbStairs(4)"
   ]
  },
  {
   "cell_type": "code",
   "execution_count": null,
   "id": "59673c05",
   "metadata": {},
   "outputs": [],
   "source": []
  },
  {
   "cell_type": "code",
   "execution_count": null,
   "id": "7c03d9f7",
   "metadata": {},
   "outputs": [],
   "source": []
  },
  {
   "cell_type": "code",
   "execution_count": null,
   "id": "99f3dbab",
   "metadata": {},
   "outputs": [],
   "source": []
  },
  {
   "cell_type": "code",
   "execution_count": null,
   "id": "1c78fa6b",
   "metadata": {},
   "outputs": [],
   "source": []
  }
 ],
 "metadata": {
  "kernelspec": {
   "display_name": "Python 3 (ipykernel)",
   "language": "python",
   "name": "python3"
  },
  "language_info": {
   "codemirror_mode": {
    "name": "ipython",
    "version": 3
   },
   "file_extension": ".py",
   "mimetype": "text/x-python",
   "name": "python",
   "nbconvert_exporter": "python",
   "pygments_lexer": "ipython3",
   "version": "3.8.11"
  }
 },
 "nbformat": 4,
 "nbformat_minor": 5
}
